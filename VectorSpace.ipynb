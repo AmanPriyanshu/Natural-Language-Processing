{
  "nbformat": 4,
  "nbformat_minor": 0,
  "metadata": {
    "colab": {
      "name": "VectorSpace.ipynb",
      "provenance": [],
      "authorship_tag": "ABX9TyOC4Q88Tj4pBF5X+s+3+hqU",
      "include_colab_link": true
    },
    "kernelspec": {
      "name": "python3",
      "display_name": "Python 3"
    }
  },
  "cells": [
    {
      "cell_type": "markdown",
      "metadata": {
        "id": "view-in-github",
        "colab_type": "text"
      },
      "source": [
        "<a href=\"https://colab.research.google.com/github/AmanPriyanshu/Natural-Language-Processing/blob/master/VectorSpace.ipynb\" target=\"_parent\"><img src=\"https://colab.research.google.com/assets/colab-badge.svg\" alt=\"Open In Colab\"/></a>"
      ]
    },
    {
      "cell_type": "markdown",
      "metadata": {
        "id": "vyK3hjEE55YO",
        "colab_type": "text"
      },
      "source": [
        "## DOWNLOAD DATASET:"
      ]
    },
    {
      "cell_type": "code",
      "metadata": {
        "id": "kg5hHrumybhJ",
        "colab_type": "code",
        "colab": {
          "base_uri": "https://localhost:8080/",
          "height": 235
        },
        "outputId": "b4e692c2-c3d3-4e1e-ff62-4fec58b009bb"
      },
      "source": [
        "!mkdir -p data\n",
        "!wget -nc https://nyc3.digitaloceanspaces.com/ml-files-distro/v1/sentiment-analysis-is-bad/data/sentiment140-subset.csv.zip -P data\n",
        "!unzip -n -d data data/sentiment140-subset.csv.zip"
      ],
      "execution_count": 1,
      "outputs": [
        {
          "output_type": "stream",
          "text": [
            "--2020-09-17 17:41:06--  https://nyc3.digitaloceanspaces.com/ml-files-distro/v1/sentiment-analysis-is-bad/data/sentiment140-subset.csv.zip\n",
            "Resolving nyc3.digitaloceanspaces.com (nyc3.digitaloceanspaces.com)... 162.243.189.2\n",
            "Connecting to nyc3.digitaloceanspaces.com (nyc3.digitaloceanspaces.com)|162.243.189.2|:443... connected.\n",
            "HTTP request sent, awaiting response... 200 OK\n",
            "Length: 17927149 (17M) [application/zip]\n",
            "Saving to: ‘data/sentiment140-subset.csv.zip’\n",
            "\n",
            "sentiment140-subset 100%[===================>]  17.10M  6.78MB/s    in 2.5s    \n",
            "\n",
            "2020-09-17 17:41:10 (6.78 MB/s) - ‘data/sentiment140-subset.csv.zip’ saved [17927149/17927149]\n",
            "\n",
            "Archive:  data/sentiment140-subset.csv.zip\n",
            "  inflating: data/sentiment140-subset.csv  \n"
          ],
          "name": "stdout"
        }
      ]
    },
    {
      "cell_type": "markdown",
      "metadata": {
        "id": "5JHOkk8458MH",
        "colab_type": "text"
      },
      "source": [
        "## IMPORTS:"
      ]
    },
    {
      "cell_type": "code",
      "metadata": {
        "id": "mqiIQTLj52eX",
        "colab_type": "code",
        "colab": {
          "base_uri": "https://localhost:8080/",
          "height": 50
        },
        "outputId": "c5df29d6-2d1f-4a6e-b8f9-bbdb30916d58"
      },
      "source": [
        "import nltk\n",
        "import pandas as pd\n",
        "import numpy as np\n",
        "from nltk.stem import PorterStemmer\n",
        "from nltk.corpus import stopwords\n",
        "nltk.download('stopwords')\n",
        "from tqdm import tqdm, trange\n",
        "import string\n",
        "from sklearn.decomposition import PCA\n",
        "from scipy.stats import gaussian_kde\n",
        "from sklearn.neighbors import KNeighborsClassifier"
      ],
      "execution_count": 2,
      "outputs": [
        {
          "output_type": "stream",
          "text": [
            "[nltk_data] Downloading package stopwords to /root/nltk_data...\n",
            "[nltk_data]   Unzipping corpora/stopwords.zip.\n"
          ],
          "name": "stdout"
        }
      ]
    },
    {
      "cell_type": "markdown",
      "metadata": {
        "id": "daUUg7gv6BoN",
        "colab_type": "text"
      },
      "source": [
        "### Only importing 30,000 values since this is more of practice and demo for refrence"
      ]
    },
    {
      "cell_type": "code",
      "metadata": {
        "id": "N66ELL_i59eC",
        "colab_type": "code",
        "colab": {
          "base_uri": "https://localhost:8080/",
          "height": 118
        },
        "outputId": "fdf33e4c-f39a-41e9-ff34-a84e418bf6cb"
      },
      "source": [
        "df = pd.read_csv(\"data/sentiment140-subset.csv\", nrows=5000)\n",
        "print(df.head())"
      ],
      "execution_count": 3,
      "outputs": [
        {
          "output_type": "stream",
          "text": [
            "   polarity                                               text\n",
            "0         0                      @kconsidder You never tweet  \n",
            "1         0                 Sick today  coding from the couch.\n",
            "2         1  @ChargerJenn Thx for answering so quick,I was ...\n",
            "3         1  Wii fit says I've lost 10 pounds since last ti...\n",
            "4         0  @MrKinetik Not a thing!!!  I don't really have...\n"
          ],
          "name": "stdout"
        }
      ]
    },
    {
      "cell_type": "markdown",
      "metadata": {
        "id": "OB4pIUiR6G5J",
        "colab_type": "text"
      },
      "source": [
        "### Let's count positives and negatives"
      ]
    },
    {
      "cell_type": "code",
      "metadata": {
        "id": "zG0GdYi76EYh",
        "colab_type": "code",
        "colab": {
          "base_uri": "https://localhost:8080/",
          "height": 67
        },
        "outputId": "c6dabd1a-9fc8-4570-bbfc-77fd0dc45851"
      },
      "source": [
        "df.polarity.value_counts()"
      ],
      "execution_count": 4,
      "outputs": [
        {
          "output_type": "execute_result",
          "data": {
            "text/plain": [
              "1    2522\n",
              "0    2478\n",
              "Name: polarity, dtype: int64"
            ]
          },
          "metadata": {
            "tags": []
          },
          "execution_count": 4
        }
      ]
    },
    {
      "cell_type": "markdown",
      "metadata": {
        "id": "QH-bK1dU6LwE",
        "colab_type": "text"
      },
      "source": [
        "### Let's take a look:"
      ]
    },
    {
      "cell_type": "code",
      "metadata": {
        "id": "H-ucK-Zw6Jk8",
        "colab_type": "code",
        "colab": {
          "base_uri": "https://localhost:8080/",
          "height": 202
        },
        "outputId": "ec265b5e-21fa-45df-9d8a-bd52a3dce4a9"
      },
      "source": [
        "df = df.values\n",
        "print(df)"
      ],
      "execution_count": 5,
      "outputs": [
        {
          "output_type": "stream",
          "text": [
            "[[0 '@kconsidder You never tweet  ']\n",
            " [0 'Sick today  coding from the couch.']\n",
            " [1\n",
            "  '@ChargerJenn Thx for answering so quick,I was afraid I was gonna crash twitter with all the spamming I did 2 RR..sorry bout that ']\n",
            " ...\n",
            " [1\n",
            "  '@chrissypoofs i emailed you on facebook your new career.. but you can to start TTC twins or more  get to it!! haa haa']\n",
            " [1\n",
            "  '3 people asked me last night-its friday night&amp;no tweets from you-whats up?  people DO care ']\n",
            " [0\n",
            "  'is at work. It looks like it going to be a beautiful day. Today is the last day I see my husband for 5 weeks ']]\n"
          ],
          "name": "stdout"
        }
      ]
    },
    {
      "cell_type": "code",
      "metadata": {
        "id": "nzJQqB7j6Nz8",
        "colab_type": "code",
        "colab": {}
      },
      "source": [
        "polarity = df.T[0].flatten()\n",
        "tweets = df.T[1].flatten()"
      ],
      "execution_count": 6,
      "outputs": []
    },
    {
      "cell_type": "code",
      "metadata": {
        "id": "1366yPKl6QBD",
        "colab_type": "code",
        "colab": {
          "base_uri": "https://localhost:8080/",
          "height": 151
        },
        "outputId": "ccb58d37-2aea-4249-c851-db3fa855f61c"
      },
      "source": [
        "tweets"
      ],
      "execution_count": 7,
      "outputs": [
        {
          "output_type": "execute_result",
          "data": {
            "text/plain": [
              "array(['@kconsidder You never tweet  ',\n",
              "       'Sick today  coding from the couch.',\n",
              "       '@ChargerJenn Thx for answering so quick,I was afraid I was gonna crash twitter with all the spamming I did 2 RR..sorry bout that ',\n",
              "       ...,\n",
              "       '@chrissypoofs i emailed you on facebook your new career.. but you can to start TTC twins or more  get to it!! haa haa',\n",
              "       '3 people asked me last night-its friday night&amp;no tweets from you-whats up?  people DO care ',\n",
              "       'is at work. It looks like it going to be a beautiful day. Today is the last day I see my husband for 5 weeks '],\n",
              "      dtype=object)"
            ]
          },
          "metadata": {
            "tags": []
          },
          "execution_count": 7
        }
      ]
    },
    {
      "cell_type": "markdown",
      "metadata": {
        "id": "IRi1SaIU6RZX",
        "colab_type": "text"
      },
      "source": [
        "## PREPROCESSING:"
      ]
    },
    {
      "cell_type": "code",
      "metadata": {
        "id": "XtptjQ6T6Qs6",
        "colab_type": "code",
        "colab": {}
      },
      "source": [
        "def stopwords_punctuation(arr):\n",
        "  new_arr = []\n",
        "  diction = {}\n",
        "  for p in string.punctuation:\n",
        "    diction.update({p:' '})\n",
        "  for s in tqdm(arr, desc='Punctuation'):\n",
        "    s = s.translate(str.maketrans(diction))\n",
        "    new_arr.append(' '.join([i for i in s.split() if i not in stopwords.words('english')]))\n",
        "  new_arr = np.array(new_arr)\n",
        "  return new_arr"
      ],
      "execution_count": 8,
      "outputs": []
    },
    {
      "cell_type": "code",
      "metadata": {
        "id": "TBPUuwAB6WZu",
        "colab_type": "code",
        "colab": {}
      },
      "source": [
        "def stemming_lowercase(arr):\n",
        "  porter = PorterStemmer()\n",
        "  stemmed_arr = []\n",
        "  for s in tqdm(arr, desc='Stemming'):\n",
        "    s = s.lower()\n",
        "    stemmed_arr.append(' '.join([porter.stem(word) for word in s.split()]))\n",
        "  stemmed_arr = np.array(stemmed_arr)\n",
        "  return stemmed_arr"
      ],
      "execution_count": 9,
      "outputs": []
    },
    {
      "cell_type": "code",
      "metadata": {
        "id": "v0yn6rHJ6ZZp",
        "colab_type": "code",
        "colab": {
          "base_uri": "https://localhost:8080/",
          "height": 50
        },
        "outputId": "fbf08b6a-b282-4dca-ca70-d78a51bcd7d4"
      },
      "source": [
        "tweets = stopwords_punctuation(tweets)\n",
        "tweets = stemming_lowercase(tweets)"
      ],
      "execution_count": 10,
      "outputs": [
        {
          "output_type": "stream",
          "text": [
            "Punctuation: 100%|██████████| 5000/5000 [00:07<00:00, 684.79it/s]\n",
            "Stemming: 100%|██████████| 5000/5000 [00:00<00:00, 6382.38it/s]\n"
          ],
          "name": "stderr"
        }
      ]
    },
    {
      "cell_type": "markdown",
      "metadata": {
        "id": "rbiGNRkC6dvW",
        "colab_type": "text"
      },
      "source": [
        "## CREATING A Word to Doc simple embed:"
      ]
    },
    {
      "cell_type": "code",
      "metadata": {
        "id": "AA4YvVia6bPu",
        "colab_type": "code",
        "colab": {}
      },
      "source": [
        "def vector_space_generator(arr):\n",
        "  vocab = []\n",
        "  for s in tqdm(arr, desc='Defining a Vocab'):\n",
        "    s = s.split()\n",
        "    for w in s:\n",
        "      if w not in vocab:\n",
        "        vocab.append(w)\n",
        "  vocab = vocab[:len(vocab)//2]\n",
        "  vector_space = []\n",
        "  for s in tqdm(arr, desc='Generating Vector Space'):\n",
        "    s = s.split()\n",
        "    row = [0 for _ in range(len(vocab))]\n",
        "    for w in s:\n",
        "      try:\n",
        "        row[vocab.index(w)] += 1\n",
        "      except:\n",
        "        pass\n",
        "    vector_space.append(row)\n",
        "  vector_space = np.array(vector_space)\n",
        "  return vector_space"
      ],
      "execution_count": 11,
      "outputs": []
    },
    {
      "cell_type": "code",
      "metadata": {
        "id": "x-RrRzVr77th",
        "colab_type": "code",
        "colab": {
          "base_uri": "https://localhost:8080/",
          "height": 50
        },
        "outputId": "00ea2e6d-100a-4928-d988-875d85299f83"
      },
      "source": [
        "vector_space = vector_space_generator(tweets)"
      ],
      "execution_count": 12,
      "outputs": [
        {
          "output_type": "stream",
          "text": [
            "Defining a Vocab: 100%|██████████| 5000/5000 [00:01<00:00, 4669.09it/s]\n",
            "Generating Vector Space: 100%|██████████| 5000/5000 [00:02<00:00, 2045.36it/s]\n"
          ],
          "name": "stderr"
        }
      ]
    },
    {
      "cell_type": "markdown",
      "metadata": {
        "id": "mTNsEhDL-RVG",
        "colab_type": "text"
      },
      "source": [
        "### NORMALIZING:"
      ]
    },
    {
      "cell_type": "code",
      "metadata": {
        "id": "EztgM_wE8ZCU",
        "colab_type": "code",
        "colab": {}
      },
      "source": [
        "def normalize(space):\n",
        "  space = space.T\n",
        "  normalized_space = []\n",
        "  for col in tqdm(space):\n",
        "    normalized_space.append((col - np.mean(col))/np.std(col))\n",
        "  normalized_space = np.array(normalized_space)\n",
        "  return normalized_space.T"
      ],
      "execution_count": 13,
      "outputs": []
    },
    {
      "cell_type": "code",
      "metadata": {
        "id": "TpRPGyoJ-wSX",
        "colab_type": "code",
        "colab": {
          "base_uri": "https://localhost:8080/",
          "height": 34
        },
        "outputId": "a4910785-dc64-4906-d9bd-e9a8965024fc"
      },
      "source": [
        "vector_space_norm = normalize(vector_space)"
      ],
      "execution_count": 14,
      "outputs": [
        {
          "output_type": "stream",
          "text": [
            "100%|██████████| 4977/4977 [00:00<00:00, 6767.32it/s]\n"
          ],
          "name": "stderr"
        }
      ]
    },
    {
      "cell_type": "code",
      "metadata": {
        "id": "izrgnIDI-7rQ",
        "colab_type": "code",
        "colab": {}
      },
      "source": [
        "def pca_generator(space, dims=2):\n",
        "  pca = PCA(n_components=dims)\n",
        "  pca.fit(space)\n",
        "  projection_matrix = pca.transform(space)\n",
        "  print(\"Cummulative Explained Variance Ratio\", sum(pca.explained_variance_ratio_))\n",
        "  return projection_matrix"
      ],
      "execution_count": 15,
      "outputs": []
    },
    {
      "cell_type": "code",
      "metadata": {
        "id": "2rfYIkSDAVuF",
        "colab_type": "code",
        "colab": {
          "base_uri": "https://localhost:8080/",
          "height": 34
        },
        "outputId": "f29fa412-41e8-4e7f-ea01-7cb5958bb99a"
      },
      "source": [
        "pca_matrix = pca_generator(vector_space_norm)"
      ],
      "execution_count": 16,
      "outputs": [
        {
          "output_type": "stream",
          "text": [
            "Cummulative Explained Variance Ratio 0.005638252228048216\n"
          ],
          "name": "stdout"
        }
      ]
    },
    {
      "cell_type": "markdown",
      "metadata": {
        "id": "Zfrn-PNXBmec",
        "colab_type": "text"
      },
      "source": [
        "## PLOTTING:"
      ]
    },
    {
      "cell_type": "code",
      "metadata": {
        "id": "QQL6iZ2SCAMT",
        "colab_type": "code",
        "colab": {}
      },
      "source": [
        "colors = ['r', 'g']"
      ],
      "execution_count": 17,
      "outputs": []
    },
    {
      "cell_type": "code",
      "metadata": {
        "id": "nf5evU_vDT-3",
        "colab_type": "code",
        "colab": {}
      },
      "source": [
        "from matplotlib import pyplot as plt"
      ],
      "execution_count": 18,
      "outputs": []
    },
    {
      "cell_type": "code",
      "metadata": {
        "id": "P_gy8vsdAZ6D",
        "colab_type": "code",
        "colab": {
          "base_uri": "https://localhost:8080/",
          "height": 649
        },
        "outputId": "0c3b9849-59e2-49c5-cc64-8d0a4d7d150b"
      },
      "source": [
        "positives = []\n",
        "negatives = []\n",
        "for plot, polar in tqdm(zip(pca_matrix, polarity), total=len(polarity)):\n",
        "  if polar == 1:\n",
        "    positives.append(plot)\n",
        "  else:\n",
        "    negatives.append(plot)\n",
        "negatives = np.array(negatives)\n",
        "xy = np.vstack([negatives.T[0], negatives.T[1]])\n",
        "z = gaussian_kde(xy)(xy)\n",
        "fig, ax = plt.subplots()\n",
        "ax.scatter(negatives.T[0], negatives.T[1], c=z, s=100, edgecolor='', label='NEGATIVES')\n",
        "plt.title(\"NEGATIVES\")\n",
        "plt.legend()\n",
        "plt.show()\n",
        "plt.clf()\n",
        "\n",
        "positives = np.array(positives)\n",
        "xy = np.vstack([positives.T[0], positives.T[1]])\n",
        "z = gaussian_kde(xy)(xy)\n",
        "fig, ax = plt.subplots()\n",
        "ax.scatter(positives.T[0], positives.T[1], c=z, s=100, edgecolor='', label='POSITIVES')\n",
        "plt.title(\"POSITIVES\")\n",
        "plt.legend()\n",
        "plt.show()"
      ],
      "execution_count": 19,
      "outputs": [
        {
          "output_type": "stream",
          "text": [
            "100%|██████████| 5000/5000 [00:00<00:00, 617190.62it/s]\n",
            "/usr/local/lib/python3.6/dist-packages/ipykernel_launcher.py:12: MatplotlibDeprecationWarning: Using a string of single character colors as a color sequence is deprecated. Use an explicit list instead.\n",
            "  if sys.path[0] == '':\n"
          ],
          "name": "stderr"
        },
        {
          "output_type": "display_data",
          "data": {
            "image/png": "[encoded data removed]",
            "text/plain": [
              "<Figure size 432x288 with 1 Axes>"
            ]
          },
          "metadata": {
            "tags": [],
            "needs_background": "light"
          }
        },
        {
          "output_type": "stream",
          "text": [
            "/usr/local/lib/python3.6/dist-packages/ipykernel_launcher.py:22: MatplotlibDeprecationWarning: Using a string of single character colors as a color sequence is deprecated. Use an explicit list instead.\n"
          ],
          "name": "stderr"
        },
        {
          "output_type": "display_data",
          "data": {
            "text/plain": [
              "<Figure size 432x288 with 0 Axes>"
            ]
          },
          "metadata": {
            "tags": []
          }
        },
        {
          "output_type": "display_data",
          "data": {
            "image/png": "[encoded data removed]",
            "text/plain": [
              "<Figure size 432x288 with 1 Axes>"
            ]
          },
          "metadata": {
            "tags": [],
            "needs_background": "light"
          }
        }
      ]
    },
    {
      "cell_type": "markdown",
      "metadata": {
        "id": "L_3-ZfFgHpn0",
        "colab_type": "text"
      },
      "source": [
        "### Let's see of KNN can classify:"
      ]
    },
    {
      "cell_type": "code",
      "metadata": {
        "id": "Wpg0wKoIIfT-",
        "colab_type": "code",
        "colab": {
          "base_uri": "https://localhost:8080/",
          "height": 34
        },
        "outputId": "644a45e8-1f0f-4382-c2d2-f261d5cd6d87"
      },
      "source": [
        "labels = [i for i in polarity]\n",
        "pca_matrix = pca_generator(vector_space_norm, 250)"
      ],
      "execution_count": 20,
      "outputs": [
        {
          "output_type": "stream",
          "text": [
            "Cummulative Explained Variance Ratio 0.25260995982430257\n"
          ],
          "name": "stdout"
        }
      ]
    },
    {
      "cell_type": "code",
      "metadata": {
        "id": "Reh9MtLXFMdL",
        "colab_type": "code",
        "colab": {
          "base_uri": "https://localhost:8080/",
          "height": 34
        },
        "outputId": "6f1d7160-a037-43f0-b2ce-301f65afe6a6"
      },
      "source": [
        "neigh = KNeighborsClassifier(n_neighbors=1)\n",
        "neigh.fit(pca_matrix[:pca_matrix.shape[0]//2], labels[:pca_matrix.shape[0]//2])\n",
        "results = neigh.score(pca_matrix, labels)\n",
        "print(\"Accuracy:\", results)"
      ],
      "execution_count": 21,
      "outputs": [
        {
          "output_type": "stream",
          "text": [
            "Accuracy: 0.7748\n"
          ],
          "name": "stdout"
        }
      ]
    }
  ]
}