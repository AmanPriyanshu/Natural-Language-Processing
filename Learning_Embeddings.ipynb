{
  "nbformat": 4,
  "nbformat_minor": 0,
  "metadata": {
    "colab": {
      "name": "Learning-Embeddings.ipynb",
      "provenance": [],
      "collapsed_sections": [],
      "authorship_tag": "ABX9TyOKMPXJcbYtmWvUPBW+XTYj",
      "include_colab_link": true
    },
    "kernelspec": {
      "display_name": "Python 3",
      "name": "python3"
    }
  },
  "cells": [
    {
      "cell_type": "markdown",
      "metadata": {
        "id": "view-in-github",
        "colab_type": "text"
      },
      "source": [
        "<a href=\"https://colab.research.google.com/github/AmanPriyanshu/Natural-Language-Processing/blob/master/Learning_Embeddings.ipynb\" target=\"_parent\"><img src=\"https://colab.research.google.com/assets/colab-badge.svg\" alt=\"Open In Colab\"/></a>"
      ]
    },
    {
      "cell_type": "markdown",
      "metadata": {
        "id": "qEBSAKCJCRxt"
      },
      "source": [
        "## IMPORTS:"
      ]
    },
    {
      "cell_type": "code",
      "metadata": {
        "id": "PKu7zcFHSrMm"
      },
      "source": [
        "%%capture\n",
        "!pip install tensorflow_text"
      ],
      "execution_count": 1,
      "outputs": []
    },
    {
      "cell_type": "code",
      "metadata": {
        "id": "miGZkz8N_BpD"
      },
      "source": [
        "import numpy as np\n",
        "import tensorflow as tf\n",
        "import matplotlib.pyplot as plt\n",
        "import os\n",
        "import string\n",
        "import tensorflow_hub as hub\n",
        "from absl import logging\n",
        "import tensorflow_text as text"
      ],
      "execution_count": 2,
      "outputs": []
    },
    {
      "cell_type": "markdown",
      "metadata": {
        "id": "rQyr5pMdCZBK"
      },
      "source": [
        "## DOWNLOADING DATASET:"
      ]
    },
    {
      "cell_type": "code",
      "metadata": {
        "id": "fuNIS19k_vSw"
      },
      "source": [
        "def data_downloader():\n",
        "  url = \"https://ai.stanford.edu/~amaas/data/sentiment/aclImdb_v1.tar.gz\"\n",
        "\n",
        "  dataset = tf.keras.utils.get_file(\"aclImdb_v1.tar.gz\", url,\n",
        "                                      untar=True, cache_dir='.',\n",
        "                                      cache_subdir='')\n",
        "\n",
        "  dataset_dir = os.path.join(os.path.dirname(dataset), 'aclImdb')\n",
        "  return dataset_dir"
      ],
      "execution_count": 3,
      "outputs": []
    },
    {
      "cell_type": "code",
      "metadata": {
        "id": "q8rGWEAIGGAc"
      },
      "source": [
        "dataset_dir = data_downloader()"
      ],
      "execution_count": 4,
      "outputs": []
    },
    {
      "cell_type": "code",
      "metadata": {
        "id": "ncW5nIJ__9Fo"
      },
      "source": [
        "train_dir = os.path.join(dataset_dir, 'train')"
      ],
      "execution_count": 5,
      "outputs": []
    },
    {
      "cell_type": "code",
      "metadata": {
        "colab": {
          "base_uri": "https://localhost:8080/"
        },
        "id": "wuf-DCxWCzzz",
        "outputId": "ffa07acf-2f06-4cf5-ded0-f897c450324a"
      },
      "source": [
        "pos_dir = os.path.join(train_dir, 'pos')\n",
        "print('POSITIVES', os.listdir(pos_dir)[:5], '\\n')\n",
        "\n",
        "neg_dir = os.path.join(train_dir, 'neg')\n",
        "print('NEGATIVES', os.listdir(neg_dir)[:5])"
      ],
      "execution_count": 6,
      "outputs": [
        {
          "output_type": "stream",
          "text": [
            "POSITIVES ['8703_10.txt', '11223_9.txt', '10826_10.txt', '8748_8.txt', '10833_10.txt'] \n",
            "\n",
            "NEGATIVES ['5388_2.txt', '6228_1.txt', '1890_2.txt', '9921_3.txt', '9348_1.txt']\n"
          ],
          "name": "stdout"
        }
      ]
    },
    {
      "cell_type": "markdown",
      "metadata": {
        "id": "Iv8vZW8DIJgd"
      },
      "source": [
        "## LOADING DATASET:"
      ]
    },
    {
      "cell_type": "code",
      "metadata": {
        "id": "us5nJmoPFdsL"
      },
      "source": [
        "def directory_to_array(path, n=300):\n",
        "  data = []\n",
        "  for file in os.listdir(path)[:n]:\n",
        "    f = open(path+'/'+file)\n",
        "    t = ' '.join(f.readlines())\n",
        "    data.append(t)\n",
        "  return data"
      ],
      "execution_count": 7,
      "outputs": []
    },
    {
      "cell_type": "code",
      "metadata": {
        "id": "LT682i1KGwU0"
      },
      "source": [
        "positives = directory_to_array(pos_dir)\n",
        "negatives = directory_to_array(neg_dir)"
      ],
      "execution_count": 8,
      "outputs": []
    },
    {
      "cell_type": "code",
      "metadata": {
        "colab": {
          "base_uri": "https://localhost:8080/"
        },
        "id": "XlpB-G8xHlVD",
        "outputId": "f64c99c2-eb7c-41f9-fcaf-ee172e05ba89"
      },
      "source": [
        "print({'Length of Positives': len(positives), 'Length of Negatives': len(negatives)})"
      ],
      "execution_count": 9,
      "outputs": [
        {
          "output_type": "stream",
          "text": [
            "{'Length of Positives': 300, 'Length of Negatives': 300}\n"
          ],
          "name": "stdout"
        }
      ]
    },
    {
      "cell_type": "markdown",
      "metadata": {
        "id": "qu9NYMlWINed"
      },
      "source": [
        "## CONVERTING DATASETS INTO EMBEDDINGS:"
      ]
    },
    {
      "cell_type": "markdown",
      "metadata": {
        "id": "RjuMgOnrJHiz"
      },
      "source": [
        "### UNIVERSAL SENTENCE ENCODER:"
      ]
    },
    {
      "cell_type": "code",
      "metadata": {
        "id": "nlJhhJefHmZ7",
        "colab": {
          "base_uri": "https://localhost:8080/"
        },
        "outputId": "2b2d4e73-998c-40df-e310-22d04288bfdb"
      },
      "source": [
        "universal_sentence_encoder = \"https://tfhub.dev/google/universal-sentence-encoder/4\" \n",
        "embed = hub.load(universal_sentence_encoder)\n",
        "print (\"module %s loaded\" % universal_sentence_encoder)"
      ],
      "execution_count": 10,
      "outputs": [
        {
          "output_type": "stream",
          "text": [
            "module https://tfhub.dev/google/universal-sentence-encoder/4 loaded\n"
          ],
          "name": "stdout"
        }
      ]
    },
    {
      "cell_type": "code",
      "metadata": {
        "id": "sGUPUdT0JPaO",
        "colab": {
          "base_uri": "https://localhost:8080/"
        },
        "outputId": "b2ce87dd-9964-44fa-d0f6-8e35b52db4b8"
      },
      "source": [
        "positive_use_embeddings = embed(positives).numpy()\n",
        "print('POSITIVES', positive_use_embeddings.shape)\n",
        "\n",
        "negative_use_embeddings = embed(negatives).numpy()\n",
        "print('NEGATIVES', negative_use_embeddings.shape)"
      ],
      "execution_count": 11,
      "outputs": [
        {
          "output_type": "stream",
          "text": [
            "POSITIVES (300, 512)\n",
            "NEGATIVES (300, 512)\n"
          ],
          "name": "stdout"
        }
      ]
    },
    {
      "cell_type": "markdown",
      "metadata": {
        "id": "Pg6jg96tQdfm"
      },
      "source": [
        "### BERT EMBEDDINGS:"
      ]
    },
    {
      "cell_type": "code",
      "metadata": {
        "id": "09E2x_dQQfcl"
      },
      "source": [
        "BERT_MODEL = \"https://tfhub.dev/google/experts/bert/wiki_books/2\"\n",
        "PREPROCESS_MODEL = \"https://tfhub.dev/tensorflow/bert_en_uncased_preprocess/1\""
      ],
      "execution_count": 12,
      "outputs": []
    },
    {
      "cell_type": "code",
      "metadata": {
        "id": "wzztDYbDREZF"
      },
      "source": [
        "bert_preprocessor = hub.load(PREPROCESS_MODEL)\n",
        "bert = hub.load(BERT_MODEL)"
      ],
      "execution_count": 13,
      "outputs": []
    },
    {
      "cell_type": "code",
      "metadata": {
        "colab": {
          "base_uri": "https://localhost:8080/"
        },
        "id": "SWTi2l6QTAz8",
        "outputId": "bc0035e4-563e-42c6-d5b6-e6a0b668811b"
      },
      "source": [
        "positives_preprocessed = bert_preprocessor(positives)\n",
        "positives_embeddings = bert(positives_preprocessed)['pooled_output'].numpy()\n",
        "print('POSITIVES', positives_embeddings.shape)\n",
        "\n",
        "negatives_preprocessed = bert_preprocessor(negatives)\n",
        "negatives_embeddings = bert(negatives_preprocessed)['pooled_output'].numpy()\n",
        "print('NEGATIVES', negatives_embeddings.shape)"
      ],
      "execution_count": 14,
      "outputs": [
        {
          "output_type": "stream",
          "text": [
            "WARNING:tensorflow:5 out of the last 6 calls to <function recreate_function.<locals>.restored_function_body at 0x7f376c193bf8> triggered tf.function retracing. Tracing is expensive and the excessive number of tracings could be due to (1) creating @tf.function repeatedly in a loop, (2) passing tensors with different shapes, (3) passing Python objects instead of tensors. For (1), please define your @tf.function outside of the loop. For (2), @tf.function has experimental_relax_shapes=True option that relaxes argument shapes that can avoid unnecessary retracing. For (3), please refer to https://www.tensorflow.org/tutorials/customization/performance#python_or_tensor_args and https://www.tensorflow.org/api_docs/python/tf/function for  more details.\n"
          ],
          "name": "stdout"
        },
        {
          "output_type": "stream",
          "text": [
            "WARNING:tensorflow:5 out of the last 6 calls to <function recreate_function.<locals>.restored_function_body at 0x7f376c193bf8> triggered tf.function retracing. Tracing is expensive and the excessive number of tracings could be due to (1) creating @tf.function repeatedly in a loop, (2) passing tensors with different shapes, (3) passing Python objects instead of tensors. For (1), please define your @tf.function outside of the loop. For (2), @tf.function has experimental_relax_shapes=True option that relaxes argument shapes that can avoid unnecessary retracing. For (3), please refer to https://www.tensorflow.org/tutorials/customization/performance#python_or_tensor_args and https://www.tensorflow.org/api_docs/python/tf/function for  more details.\n"
          ],
          "name": "stderr"
        },
        {
          "output_type": "stream",
          "text": [
            "WARNING:tensorflow:6 out of the last 7 calls to <function recreate_function.<locals>.restored_function_body at 0x7f3769526158> triggered tf.function retracing. Tracing is expensive and the excessive number of tracings could be due to (1) creating @tf.function repeatedly in a loop, (2) passing tensors with different shapes, (3) passing Python objects instead of tensors. For (1), please define your @tf.function outside of the loop. For (2), @tf.function has experimental_relax_shapes=True option that relaxes argument shapes that can avoid unnecessary retracing. For (3), please refer to https://www.tensorflow.org/tutorials/customization/performance#python_or_tensor_args and https://www.tensorflow.org/api_docs/python/tf/function for  more details.\n"
          ],
          "name": "stdout"
        },
        {
          "output_type": "stream",
          "text": [
            "WARNING:tensorflow:6 out of the last 7 calls to <function recreate_function.<locals>.restored_function_body at 0x7f3769526158> triggered tf.function retracing. Tracing is expensive and the excessive number of tracings could be due to (1) creating @tf.function repeatedly in a loop, (2) passing tensors with different shapes, (3) passing Python objects instead of tensors. For (1), please define your @tf.function outside of the loop. For (2), @tf.function has experimental_relax_shapes=True option that relaxes argument shapes that can avoid unnecessary retracing. For (3), please refer to https://www.tensorflow.org/tutorials/customization/performance#python_or_tensor_args and https://www.tensorflow.org/api_docs/python/tf/function for  more details.\n"
          ],
          "name": "stderr"
        },
        {
          "output_type": "stream",
          "text": [
            "POSITIVES (300, 768)\n",
            "WARNING:tensorflow:7 out of the last 8 calls to <function recreate_function.<locals>.restored_function_body at 0x7f376c193bf8> triggered tf.function retracing. Tracing is expensive and the excessive number of tracings could be due to (1) creating @tf.function repeatedly in a loop, (2) passing tensors with different shapes, (3) passing Python objects instead of tensors. For (1), please define your @tf.function outside of the loop. For (2), @tf.function has experimental_relax_shapes=True option that relaxes argument shapes that can avoid unnecessary retracing. For (3), please refer to https://www.tensorflow.org/tutorials/customization/performance#python_or_tensor_args and https://www.tensorflow.org/api_docs/python/tf/function for  more details.\n"
          ],
          "name": "stdout"
        },
        {
          "output_type": "stream",
          "text": [
            "WARNING:tensorflow:7 out of the last 8 calls to <function recreate_function.<locals>.restored_function_body at 0x7f376c193bf8> triggered tf.function retracing. Tracing is expensive and the excessive number of tracings could be due to (1) creating @tf.function repeatedly in a loop, (2) passing tensors with different shapes, (3) passing Python objects instead of tensors. For (1), please define your @tf.function outside of the loop. For (2), @tf.function has experimental_relax_shapes=True option that relaxes argument shapes that can avoid unnecessary retracing. For (3), please refer to https://www.tensorflow.org/tutorials/customization/performance#python_or_tensor_args and https://www.tensorflow.org/api_docs/python/tf/function for  more details.\n"
          ],
          "name": "stderr"
        },
        {
          "output_type": "stream",
          "text": [
            "NEGATIVES (300, 768)\n"
          ],
          "name": "stdout"
        }
      ]
    },
    {
      "cell_type": "markdown",
      "metadata": {
        "id": "HWqD3WhhM30m"
      },
      "source": [
        "## MODELS:"
      ]
    },
    {
      "cell_type": "markdown",
      "metadata": {
        "id": "vz2COGSZedBM"
      },
      "source": [
        "### UNIVERSAL SENTENCE ENCODER:"
      ]
    },
    {
      "cell_type": "code",
      "metadata": {
        "id": "-LfGJ3w_LfBg"
      },
      "source": [
        "model = tf.keras.Sequential([\n",
        "        tf.keras.layers.Dense(256, activation=\"relu\"),\n",
        "        tf.keras.layers.Dense(128, activation=\"relu\"),\n",
        "        tf.keras.layers.Dense(64, activation=\"relu\"),\n",
        "        tf.keras.layers.Dense(16, activation=\"relu\"),\n",
        "        tf.keras.layers.Dense(1, activation='sigmoid'),\n",
        "])\n",
        "\n",
        "model.compile(optimizer='adam', loss='binary_crossentropy', metrics=['acc'])"
      ],
      "execution_count": 15,
      "outputs": []
    },
    {
      "cell_type": "code",
      "metadata": {
        "colab": {
          "base_uri": "https://localhost:8080/"
        },
        "id": "nx8K7vBcddrV",
        "outputId": "210eca71-2fa8-4a94-8c78-248ee6c3346d"
      },
      "source": [
        "y = np.array([0 for _ in range(positive_use_embeddings.shape[0])] + [1 for _ in range(positive_use_embeddings.shape[0])])\n",
        "x = np.array([i for i in positive_use_embeddings] + [i for i in negative_use_embeddings])\n",
        "\n",
        "print('X:', x.shape)\n",
        "print('Y:', y.shape)"
      ],
      "execution_count": 16,
      "outputs": [
        {
          "output_type": "stream",
          "text": [
            "X: (600, 512)\n",
            "Y: (600,)\n"
          ],
          "name": "stdout"
        }
      ]
    },
    {
      "cell_type": "code",
      "metadata": {
        "colab": {
          "base_uri": "https://localhost:8080/"
        },
        "id": "xsz67xTkd20n",
        "outputId": "f1314ad5-1c16-4aad-810a-bbfa4a0ee68a"
      },
      "source": [
        "model.fit(x, y, shuffle=True, epochs=10)"
      ],
      "execution_count": 17,
      "outputs": [
        {
          "output_type": "stream",
          "text": [
            "Epoch 1/10\n",
            "19/19 [==============================] - 0s 3ms/step - loss: 0.6864 - acc: 0.5100\n",
            "Epoch 2/10\n",
            "19/19 [==============================] - 0s 3ms/step - loss: 0.6245 - acc: 0.6450\n",
            "Epoch 3/10\n",
            "19/19 [==============================] - 0s 3ms/step - loss: 0.5331 - acc: 0.8233\n",
            "Epoch 4/10\n",
            "19/19 [==============================] - 0s 3ms/step - loss: 0.4209 - acc: 0.8650\n",
            "Epoch 5/10\n",
            "19/19 [==============================] - 0s 3ms/step - loss: 0.3136 - acc: 0.8950\n",
            "Epoch 6/10\n",
            "19/19 [==============================] - 0s 3ms/step - loss: 0.2702 - acc: 0.8933\n",
            "Epoch 7/10\n",
            "19/19 [==============================] - 0s 3ms/step - loss: 0.1917 - acc: 0.9317\n",
            "Epoch 8/10\n",
            "19/19 [==============================] - 0s 3ms/step - loss: 0.1316 - acc: 0.9650\n",
            "Epoch 9/10\n",
            "19/19 [==============================] - 0s 3ms/step - loss: 0.0756 - acc: 0.9850\n",
            "Epoch 10/10\n",
            "19/19 [==============================] - 0s 3ms/step - loss: 0.0483 - acc: 0.9950\n"
          ],
          "name": "stdout"
        },
        {
          "output_type": "execute_result",
          "data": {
            "text/plain": [
              "<tensorflow.python.keras.callbacks.History at 0x7f376de4f748>"
            ]
          },
          "metadata": {
            "tags": []
          },
          "execution_count": 17
        }
      ]
    },
    {
      "cell_type": "markdown",
      "metadata": {
        "id": "0Ipa_WIUeiZO"
      },
      "source": [
        "### BERT:"
      ]
    },
    {
      "cell_type": "code",
      "metadata": {
        "id": "jdYP6TkYeVzy"
      },
      "source": [
        "model = tf.keras.Sequential([\n",
        "        tf.keras.layers.Dense(256, activation=\"relu\"),\n",
        "        tf.keras.layers.Dense(128, activation=\"relu\"),\n",
        "        tf.keras.layers.Dense(64, activation=\"relu\"),\n",
        "        tf.keras.layers.Dense(16, activation=\"relu\"),\n",
        "        tf.keras.layers.Dense(1, activation='sigmoid'),\n",
        "])\n",
        "\n",
        "model.compile(optimizer='adam', loss='binary_crossentropy', metrics=['acc'])"
      ],
      "execution_count": 18,
      "outputs": []
    },
    {
      "cell_type": "code",
      "metadata": {
        "colab": {
          "base_uri": "https://localhost:8080/"
        },
        "id": "nZVL514dejuD",
        "outputId": "3656f9f8-ccf8-462f-bf70-f01a35fdce9a"
      },
      "source": [
        "y = np.array([0 for _ in range(positives_embeddings.shape[0])] + [1 for _ in range(negatives_embeddings.shape[0])])\n",
        "x = np.array([i for i in positives_embeddings] + [i for i in negatives_embeddings])\n",
        "\n",
        "print('X:', x.shape)\n",
        "print('Y:', y.shape)"
      ],
      "execution_count": 19,
      "outputs": [
        {
          "output_type": "stream",
          "text": [
            "X: (600, 768)\n",
            "Y: (600,)\n"
          ],
          "name": "stdout"
        }
      ]
    },
    {
      "cell_type": "code",
      "metadata": {
        "colab": {
          "base_uri": "https://localhost:8080/"
        },
        "id": "rk1OyChUex2J",
        "outputId": "6b538e2f-a935-47f5-8f8d-669085bf1765"
      },
      "source": [
        "model.fit(x, y, shuffle=True, epochs=10)"
      ],
      "execution_count": 20,
      "outputs": [
        {
          "output_type": "stream",
          "text": [
            "Epoch 1/10\n",
            "19/19 [==============================] - 0s 3ms/step - loss: 0.7126 - acc: 0.5033\n",
            "Epoch 2/10\n",
            "19/19 [==============================] - 0s 3ms/step - loss: 0.6767 - acc: 0.5783\n",
            "Epoch 3/10\n",
            "19/19 [==============================] - 0s 3ms/step - loss: 0.6534 - acc: 0.6150\n",
            "Epoch 4/10\n",
            "19/19 [==============================] - 0s 3ms/step - loss: 0.6468 - acc: 0.6067\n",
            "Epoch 5/10\n",
            "19/19 [==============================] - 0s 3ms/step - loss: 0.6422 - acc: 0.6117\n",
            "Epoch 6/10\n",
            "19/19 [==============================] - 0s 3ms/step - loss: 0.6112 - acc: 0.6433\n",
            "Epoch 7/10\n",
            "19/19 [==============================] - 0s 3ms/step - loss: 0.5865 - acc: 0.6750\n",
            "Epoch 8/10\n",
            "19/19 [==============================] - 0s 3ms/step - loss: 0.5330 - acc: 0.7300\n",
            "Epoch 9/10\n",
            "19/19 [==============================] - 0s 3ms/step - loss: 0.5356 - acc: 0.7383\n",
            "Epoch 10/10\n",
            "19/19 [==============================] - 0s 3ms/step - loss: 0.5247 - acc: 0.7367\n"
          ],
          "name": "stdout"
        },
        {
          "output_type": "execute_result",
          "data": {
            "text/plain": [
              "<tensorflow.python.keras.callbacks.History at 0x7f376dcf2668>"
            ]
          },
          "metadata": {
            "tags": []
          },
          "execution_count": 20
        }
      ]
    },
    {
      "cell_type": "code",
      "metadata": {
        "id": "9fgCzSqMe0jm"
      },
      "source": [
        ""
      ],
      "execution_count": 20,
      "outputs": []
    }
  ]
}